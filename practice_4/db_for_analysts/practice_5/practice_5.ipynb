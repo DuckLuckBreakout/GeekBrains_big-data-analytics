{
 "cells": [
  {
   "cell_type": "code",
   "execution_count": 1,
   "metadata": {},
   "outputs": [],
   "source": [
    "import difflib\n",
    "import itertools\n",
    "import pandas as pd\n",
    "\n",
    "\n",
    "class Merger(object):\n",
    "    unique_users = []\n",
    "    not_unique_users = []\n",
    "    email_uniqueness = 0.95\n",
    "    tel_uniqueness = 0.66\n",
    "\n",
    "    def __init__(self, table_file_name):\n",
    "        self.table = pd.read_csv(table_file_name,sep=';')\n",
    "        print(self.table)\n",
    "        self.rows = [row for row in self.table.T.to_dict().values()]\n",
    "        self.not_unique_users.clear()\n",
    "        self.unique_users.clear()\n",
    "\n",
    "\n",
    "    def find_not_unique_users(self):\n",
    "        for pair in itertools.combinations(self.rows, 2):\n",
    "            if self.similarity(pair[0]['email'], pair[1]['email']) >= self.email_uniqueness or \\\n",
    "               self.similarity(str(pair[0]['tel']), str(pair[1]['tel'])) >= self.tel_uniqueness:\n",
    "                appended_flag = False\n",
    "                for not_unique_user in self.not_unique_users:\n",
    "                    if pair[0]['id_u'] in not_unique_user and pair[1]['id_u'] not in not_unique_user:\n",
    "                        not_unique_user.append(pair[1]['id_u'])\n",
    "                        appended_flag = True\n",
    "                    elif pair[1]['id_u'] in not_unique_user and pair[0]['id_u'] not in not_unique_user:\n",
    "                        not_unique_user.append(pair[0]['id_u'])\n",
    "                        appended_flag = True\n",
    "                    elif pair[0]['id_u'] in not_unique_user and pair[1]['id_u'] in not_unique_user:\n",
    "                        appended_flag = True\n",
    "\n",
    "                if not appended_flag:\n",
    "                    self.not_unique_users.append([pair[0]['id_u'], pair[1]['id_u']])\n",
    "\n",
    "    def find_unique_users(self):\n",
    "        for row in self.rows:\n",
    "            unique_user_flag = True\n",
    "            for not_unique_user in self.not_unique_users:\n",
    "                if row['id_u'] in not_unique_user:\n",
    "                    unique_user_flag = False\n",
    "            if unique_user_flag:\n",
    "                self.unique_users.append(row['id_u'])\n",
    "        self.unique_users += self.not_unique_users\n",
    "\n",
    "    def get_users_data(self, new_table_file_name):\n",
    "        users_data = []\n",
    "        for user in self.unique_users:\n",
    "            user_data = {'ids': [],\n",
    "                         'emails': [],\n",
    "                         'tels': []}\n",
    "            if type(user) == int:\n",
    "                user_data['ids'] = [user]\n",
    "            else:\n",
    "                user_data['ids'] = user\n",
    "            user_data['emails'] = self.table.loc[self.table['id_u'].isin(user_data['ids'])]['email'].tolist()\n",
    "            user_data['tels'] = self.table.loc[self.table['id_u'].isin(user_data['ids'])]['tel'].tolist()\n",
    "            users_data.append(user_data)\n",
    "        users_data = pd.DataFrame(users_data)\n",
    "        users_data.to_csv(new_table_file_name, index=False, sep=';')\n",
    "        return users_data\n",
    "\n",
    "    def similarity(self, s1, s2):\n",
    "        normalized1 = s1.lower()\n",
    "        normalized2 = s2.lower()\n",
    "        matcher = difflib.SequenceMatcher(None, normalized1, normalized2)\n",
    "        return matcher.ratio()"
   ]
  },
  {
   "cell_type": "code",
   "execution_count": 2,
   "metadata": {},
   "outputs": [
    {
     "name": "stdout",
     "output_type": "stream",
     "text": [
      "   id_u             email     tel\n",
      "0     1     12345@mail.ru     123\n",
      "1     2     12345@mail.ru     124\n",
      "2     3    123456@mail.ru     124\n",
      "3     4   1234567@mail.ru     124\n",
      "4     5  12345678@mail.ru     124\n",
      "5     6    123456@mail.ru  123435\n",
      "6     7    123456@mail.ru  235123\n",
      "7     8    123456@mail.ru  534534\n"
     ]
    }
   ],
   "source": [
    "merge1 = Merger('data1.csv')"
   ]
  },
  {
   "cell_type": "code",
   "execution_count": 3,
   "metadata": {},
   "outputs": [
    {
     "data": {
      "text/html": [
       "<div>\n",
       "<style scoped>\n",
       "    .dataframe tbody tr th:only-of-type {\n",
       "        vertical-align: middle;\n",
       "    }\n",
       "\n",
       "    .dataframe tbody tr th {\n",
       "        vertical-align: top;\n",
       "    }\n",
       "\n",
       "    .dataframe thead th {\n",
       "        text-align: right;\n",
       "    }\n",
       "</style>\n",
       "<table border=\"1\" class=\"dataframe\">\n",
       "  <thead>\n",
       "    <tr style=\"text-align: right;\">\n",
       "      <th></th>\n",
       "      <th>ids</th>\n",
       "      <th>emails</th>\n",
       "      <th>tels</th>\n",
       "    </tr>\n",
       "  </thead>\n",
       "  <tbody>\n",
       "    <tr>\n",
       "      <td>0</td>\n",
       "      <td>[1, 2, 3, 4, 5, 6, 7, 8]</td>\n",
       "      <td>[12345@mail.ru, 12345@mail.ru, 123456@mail.ru,...</td>\n",
       "      <td>[123, 124, 124, 124, 124, 123435, 235123, 534534]</td>\n",
       "    </tr>\n",
       "  </tbody>\n",
       "</table>\n",
       "</div>"
      ],
      "text/plain": [
       "                        ids  \\\n",
       "0  [1, 2, 3, 4, 5, 6, 7, 8]   \n",
       "\n",
       "                                              emails  \\\n",
       "0  [12345@mail.ru, 12345@mail.ru, 123456@mail.ru,...   \n",
       "\n",
       "                                                tels  \n",
       "0  [123, 124, 124, 124, 124, 123435, 235123, 534534]  "
      ]
     },
     "execution_count": 3,
     "metadata": {},
     "output_type": "execute_result"
    }
   ],
   "source": [
    "merge1.find_not_unique_users()\n",
    "merge1.find_unique_users()\n",
    "merge1.get_users_data('unique_users.csv')"
   ]
  },
  {
   "cell_type": "code",
   "execution_count": 4,
   "metadata": {},
   "outputs": [
    {
     "name": "stdout",
     "output_type": "stream",
     "text": [
      "    id_u               email      tel\n",
      "0      1       12345@mail.ru      123\n",
      "1      2       12345@mail.ru      124\n",
      "2      3      123456@mail.ru      124\n",
      "3      4     1234567@mail.ru      124\n",
      "4      5    12345678@mail.ru      124\n",
      "5      6      123456@mail.ru   123435\n",
      "6      7      123456@mail.ru   235123\n",
      "7      8      123456@mail.ru   534534\n",
      "8      9      512414@mail.ru  4124124\n",
      "9     10      512414@mail.ru      521\n",
      "10    11  fasfknfkja@mail.ru  4124123\n"
     ]
    }
   ],
   "source": [
    "merge2 = Merger('data2.csv')"
   ]
  },
  {
   "cell_type": "code",
   "execution_count": 5,
   "metadata": {},
   "outputs": [
    {
     "data": {
      "text/html": [
       "<div>\n",
       "<style scoped>\n",
       "    .dataframe tbody tr th:only-of-type {\n",
       "        vertical-align: middle;\n",
       "    }\n",
       "\n",
       "    .dataframe tbody tr th {\n",
       "        vertical-align: top;\n",
       "    }\n",
       "\n",
       "    .dataframe thead th {\n",
       "        text-align: right;\n",
       "    }\n",
       "</style>\n",
       "<table border=\"1\" class=\"dataframe\">\n",
       "  <thead>\n",
       "    <tr style=\"text-align: right;\">\n",
       "      <th></th>\n",
       "      <th>ids</th>\n",
       "      <th>emails</th>\n",
       "      <th>tels</th>\n",
       "    </tr>\n",
       "  </thead>\n",
       "  <tbody>\n",
       "    <tr>\n",
       "      <td>0</td>\n",
       "      <td>[1, 2, 3, 4, 5, 6, 7, 8]</td>\n",
       "      <td>[12345@mail.ru, 12345@mail.ru, 123456@mail.ru,...</td>\n",
       "      <td>[123, 124, 124, 124, 124, 123435, 235123, 534534]</td>\n",
       "    </tr>\n",
       "    <tr>\n",
       "      <td>1</td>\n",
       "      <td>[9, 10, 11]</td>\n",
       "      <td>[512414@mail.ru, 512414@mail.ru, fasfknfkja@ma...</td>\n",
       "      <td>[4124124, 521, 4124123]</td>\n",
       "    </tr>\n",
       "  </tbody>\n",
       "</table>\n",
       "</div>"
      ],
      "text/plain": [
       "                        ids  \\\n",
       "0  [1, 2, 3, 4, 5, 6, 7, 8]   \n",
       "1               [9, 10, 11]   \n",
       "\n",
       "                                              emails  \\\n",
       "0  [12345@mail.ru, 12345@mail.ru, 123456@mail.ru,...   \n",
       "1  [512414@mail.ru, 512414@mail.ru, fasfknfkja@ma...   \n",
       "\n",
       "                                                tels  \n",
       "0  [123, 124, 124, 124, 124, 123435, 235123, 534534]  \n",
       "1                            [4124124, 521, 4124123]  "
      ]
     },
     "execution_count": 5,
     "metadata": {},
     "output_type": "execute_result"
    }
   ],
   "source": [
    "merge2.find_not_unique_users()\n",
    "merge2.find_unique_users()\n",
    "merge2.get_users_data('unique_users.csv')"
   ]
  }
 ],
 "metadata": {
  "kernelspec": {
   "display_name": "Python 3",
   "language": "python",
   "name": "python3"
  },
  "language_info": {
   "codemirror_mode": {
    "name": "ipython",
    "version": 3
   },
   "file_extension": ".py",
   "mimetype": "text/x-python",
   "name": "python",
   "nbconvert_exporter": "python",
   "pygments_lexer": "ipython3",
   "version": "3.7.4"
  }
 },
 "nbformat": 4,
 "nbformat_minor": 2
}
